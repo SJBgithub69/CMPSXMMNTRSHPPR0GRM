{
 "cells": [
  {
   "cell_type": "code",
   "execution_count": 1,
   "metadata": {},
   "outputs": [],
   "source": [
    "#pandas pivot table\n",
    "import pandas as pd\n",
    "import numpy as np"
   ]
  },
  {
   "cell_type": "code",
   "execution_count": null,
   "metadata": {},
   "outputs": [],
   "source": [
    "food=pd.read_csv('food.csv')\n",
    "food.shape\n",
    "food.head()\n",
    "#converting 2D data into higher(3D,4D) dimensions....\n",
    "food.pivot_table(index='City',columns='Item',value='Spends',aggfun='mean')\n",
    "#its speciality is its can be multidimensional\n",
    "food.pivot_table(index=['City','Gender'],columns=['Item','Frequency'],value='Spends',aggfunc='mean')\n",
    "#NaN value=value not found....."
   ]
  }
 ],
 "metadata": {
  "kernelspec": {
   "display_name": "Python 3",
   "language": "python",
   "name": "python3"
  },
  "language_info": {
   "codemirror_mode": {
    "name": "ipython",
    "version": 3
   },
   "file_extension": ".py",
   "mimetype": "text/x-python",
   "name": "python",
   "nbconvert_exporter": "python",
   "pygments_lexer": "ipython3",
   "version": "3.7.3"
  }
 },
 "nbformat": 4,
 "nbformat_minor": 2
}
